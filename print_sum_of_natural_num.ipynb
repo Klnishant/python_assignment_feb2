{
 "cells": [
  {
   "cell_type": "markdown",
   "id": "7cd1ab00-8790-431c-bcee-1134a7baac83",
   "metadata": {},
   "source": [
    "print sum of of first 10 natural number using for loop"
   ]
  },
  {
   "cell_type": "code",
   "execution_count": 3,
   "id": "5fa7aa85-795b-465a-9bde-e558754751a5",
   "metadata": {},
   "outputs": [
    {
     "name": "stdout",
     "output_type": "stream",
     "text": [
      "55\n"
     ]
    }
   ],
   "source": [
    "sum = 0\n",
    "\n",
    "for i in range(1,11) :\n",
    "    sum = sum+i\n",
    "print(sum)"
   ]
  },
  {
   "cell_type": "markdown",
   "id": "65b5fe60-26b8-4344-9a68-15fc5332927c",
   "metadata": {},
   "source": [
    "print sum of first 10 natural number using while loop"
   ]
  },
  {
   "cell_type": "code",
   "execution_count": 8,
   "id": "6601eca1-d68c-4252-84f1-7445997e8e6d",
   "metadata": {},
   "outputs": [
    {
     "name": "stdout",
     "output_type": "stream",
     "text": [
      "55\n"
     ]
    }
   ],
   "source": [
    "sum=0\n",
    "i=1\n",
    "\n",
    "while i <= 10 :\n",
    "    sum = sum+i\n",
    "    i=i+1\n",
    "print(sum)"
   ]
  },
  {
   "cell_type": "markdown",
   "id": "c88bdd41-e49a-41d4-9866-91b978470eb5",
   "metadata": {},
   "source": [
    "print product of first 10 natural number using for loop"
   ]
  },
  {
   "cell_type": "code",
   "execution_count": 1,
   "id": "6835f310-262e-406e-ac5a-e77a67d63cd4",
   "metadata": {},
   "outputs": [
    {
     "name": "stdout",
     "output_type": "stream",
     "text": [
      "3628800\n"
     ]
    }
   ],
   "source": [
    "product = 1\n",
    "\n",
    "for i in range(1,11) :\n",
    "    product = product*i\n",
    "    i=i+1\n",
    "print(product)"
   ]
  },
  {
   "cell_type": "markdown",
   "id": "2a247332-13a7-4b9e-8ff9-4d59a147f1b6",
   "metadata": {},
   "source": [
    "print product of first 10 natural number using while loop"
   ]
  },
  {
   "cell_type": "code",
   "execution_count": 2,
   "id": "f1a3d765-2367-46f8-9baf-f913c20420aa",
   "metadata": {},
   "outputs": [
    {
     "name": "stdout",
     "output_type": "stream",
     "text": [
      "3628800\n"
     ]
    }
   ],
   "source": [
    "product=1\n",
    "i=1\n",
    "while i<=10:\n",
    "    product = product*i\n",
    "    i=i+1\n",
    "print(product)"
   ]
  },
  {
   "cell_type": "code",
   "execution_count": null,
   "id": "27ca6f93-19ab-43ff-8a93-7afcaf7f216f",
   "metadata": {},
   "outputs": [],
   "source": []
  }
 ],
 "metadata": {
  "kernelspec": {
   "display_name": "Python 3 (ipykernel)",
   "language": "python",
   "name": "python3"
  },
  "language_info": {
   "codemirror_mode": {
    "name": "ipython",
    "version": 3
   },
   "file_extension": ".py",
   "mimetype": "text/x-python",
   "name": "python",
   "nbconvert_exporter": "python",
   "pygments_lexer": "ipython3",
   "version": "3.10.8"
  }
 },
 "nbformat": 4,
 "nbformat_minor": 5
}
