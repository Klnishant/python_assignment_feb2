{
 "cells": [
  {
   "cell_type": "markdown",
   "id": "624a0ad0-716d-4a2b-9081-1d8206d50a5e",
   "metadata": {},
   "source": [
    "using for loop"
   ]
  },
  {
   "cell_type": "code",
   "execution_count": null,
   "id": "a43ba44b-9ee5-4e8e-8f52-245f90d7df89",
   "metadata": {},
   "outputs": [],
   "source": [
    "l=[]\n",
    "l1=[]\n",
    "\n",
    "for i in range(1,101):\n",
    "    l.append(i)\n",
    "for i in range(0,len(l)):\n",
    "    if (l[i]**3)%4==0 or (l[i]**3)%5==0:\n",
    "        l1.append(l[i])\n",
    "print(l1)"
   ]
  },
  {
   "cell_type": "markdown",
   "id": "580a5957-e6a3-44a8-8bb7-5cf74757565d",
   "metadata": {},
   "source": [
    "using while lopp"
   ]
  },
  {
   "cell_type": "code",
   "execution_count": null,
   "id": "b6977c4c-2628-4e8b-9fed-f1f9e82e1bd1",
   "metadata": {},
   "outputs": [],
   "source": [
    "l=[]\n",
    "l1=[]\n",
    "i,j=1,0\n",
    "while i<=100:\n",
    "    l.append(i)\n",
    "    i=i+1\n",
    "while j<=len(l):\n",
    "    if (l[j]**3)%4==0 or (l[j]**3)%5==0 :\n",
    "        l1.append(l[j])\n",
    "    j=j+1\n",
    "print(l1)"
   ]
  },
  {
   "cell_type": "code",
   "execution_count": null,
   "id": "db5a0585-66c5-46eb-aedf-a11d7e54f57a",
   "metadata": {},
   "outputs": [],
   "source": []
  }
 ],
 "metadata": {
  "kernelspec": {
   "display_name": "Python 3 (ipykernel)",
   "language": "python",
   "name": "python3"
  },
  "language_info": {
   "codemirror_mode": {
    "name": "ipython",
    "version": 3
   },
   "file_extension": ".py",
   "mimetype": "text/x-python",
   "name": "python",
   "nbconvert_exporter": "python",
   "pygments_lexer": "ipython3",
   "version": "3.10.8"
  }
 },
 "nbformat": 4,
 "nbformat_minor": 5
}
