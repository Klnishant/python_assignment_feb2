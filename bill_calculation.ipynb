{
 "cells": [
  {
   "cell_type": "code",
   "execution_count": 3,
   "id": "8ed6777a-ef8d-4a0b-a6f3-9f5e74cdf738",
   "metadata": {},
   "outputs": [
    {
     "name": "stdin",
     "output_type": "stream",
     "text": [
      "Enter the total unit consumed in one month 310\n"
     ]
    },
    {
     "name": "stdout",
     "output_type": "stream",
     "text": [
      "2250.0\n"
     ]
    }
   ],
   "source": [
    "unit = int(input(\"Enter the total unit consumed in one month\"))\n",
    "if unit<=100:\n",
    "    bill = unit*4.5\n",
    "    print(bill)\n",
    "elif unit>100 and unit<=200:\n",
    "    bill = 100*4.5 + (unit-100)*6\n",
    "    print(bill)\n",
    "elif unit>200 and unit<=300:\n",
    "    bill = 100*4.5 + 100*6 + (unit-200)*10\n",
    "    print(bill)\n",
    "elif unit>300:\n",
    "    bill = 100*4.5+100*6+100*10+(unit-300)*20\n",
    "    print(bill)"
   ]
  },
  {
   "cell_type": "code",
   "execution_count": null,
   "id": "65928565-13ad-4713-974a-f54acd070b18",
   "metadata": {},
   "outputs": [],
   "source": []
  }
 ],
 "metadata": {
  "kernelspec": {
   "display_name": "Python 3 (ipykernel)",
   "language": "python",
   "name": "python3"
  },
  "language_info": {
   "codemirror_mode": {
    "name": "ipython",
    "version": 3
   },
   "file_extension": ".py",
   "mimetype": "text/x-python",
   "name": "python",
   "nbconvert_exporter": "python",
   "pygments_lexer": "ipython3",
   "version": "3.10.8"
  }
 },
 "nbformat": 4,
 "nbformat_minor": 5
}
